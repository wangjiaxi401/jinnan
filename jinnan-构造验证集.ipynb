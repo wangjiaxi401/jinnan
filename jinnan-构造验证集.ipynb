{
 "cells": [
  {
   "cell_type": "code",
   "execution_count": 1,
   "metadata": {},
   "outputs": [],
   "source": [
    "import numpy as np\n",
    "import pandas as pd\n",
    "X_train = np.load('X_train.npy')\n",
    "X_test = np.load('X_test.npy')\n",
    "y_train = np.load('y_train.npy')"
   ]
  },
  {
   "cell_type": "code",
   "execution_count": 2,
   "metadata": {},
   "outputs": [],
   "source": [
    "X_test = pd.DataFrame(X_test).fillna(0).values"
   ]
  },
  {
   "cell_type": "code",
   "execution_count": 3,
   "metadata": {},
   "outputs": [],
   "source": [
    "#数据标准化消除单位影响\n",
    "tr_mean = X_train.mean(axis = 0)\n",
    "tr_std = X_train.std(axis = 0)\n",
    "scale_tr = (X_train-tr_mean)/tr_std\n",
    "scale_te = (X_test-tr_mean)/tr_std"
   ]
  },
  {
   "cell_type": "code",
   "execution_count": 4,
   "metadata": {},
   "outputs": [],
   "source": [
    "#计算每两个样本的距离矩阵\n",
    "dist = np.zeros((scale_te.shape[0],scale_tr.shape[0]))\n",
    "for i in range(scale_te.shape[0]):\n",
    "    for j in range(scale_tr.shape[0]):\n",
    "        dist[i][j] = np.linalg.norm(scale_tr[j] - scale_te[i])"
   ]
  },
  {
   "cell_type": "code",
   "execution_count": 5,
   "metadata": {},
   "outputs": [],
   "source": [
    "#寻找行最小值并返回列索引增加到列表a中\n",
    "a = []\n",
    "b = []\n",
    "xx = pd.DataFrame(dist)\n",
    "for i in range(xx.shape[0]):\n",
    "    a.append(list(xx.loc[i]).index(pd.DataFrame(xx.loc[i].sort_values()).iloc[0,0]))\n",
    "    b.append(list(xx.loc[i]).index(pd.DataFrame(xx.loc[i].sort_values()).iloc[1,0]))"
   ]
  },
  {
   "cell_type": "code",
   "execution_count": 6,
   "metadata": {},
   "outputs": [],
   "source": [
    "#从提取数据并保存\n",
    "val_dat1 = X_train[a]\n",
    "val_dat2 = X_train[b]\n",
    "val_dat = np.concatenate((val_dat1,val_dat2),axis = 0)\n",
    "val_dat_y1 = y_train[a]\n",
    "val_dat_y2 = y_train[b]\n",
    "val_dat_y = np.concatenate((val_dat_y1,val_dat_y2),axis = 0)\n",
    "np.save('val_dat.npy',val_dat)\n",
    "np.save('val_dat_y.npy',val_dat_y)"
   ]
  },
  {
   "cell_type": "code",
   "execution_count": null,
   "metadata": {},
   "outputs": [],
   "source": []
  }
 ],
 "metadata": {
  "kernelspec": {
   "display_name": "Python 3",
   "language": "python",
   "name": "python3"
  },
  "language_info": {
   "codemirror_mode": {
    "name": "ipython",
    "version": 3
   },
   "file_extension": ".py",
   "mimetype": "text/x-python",
   "name": "python",
   "nbconvert_exporter": "python",
   "pygments_lexer": "ipython3",
   "version": "3.6.5"
  }
 },
 "nbformat": 4,
 "nbformat_minor": 2
}
